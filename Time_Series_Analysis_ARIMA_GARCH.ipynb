{
 "cells": [
  {
   "cell_type": "markdown",
   "id": "b6193c9b",
   "metadata": {},
   "source": [
    "\n",
    "# Time Series Analysis using ARIMA and (Optional) GARCH Modeling\n",
    "\n",
    "## 1. Introduction\n",
    "In this notebook, we will perform time series analysis using the ARIMA model.  \n",
    "We will use the **AirPassengers dataset** (monthly totals of international airline passengers from 1949 to 1960).  \n",
    "Students who apply ARCH/GARCH models for volatility analysis will earn **extra marks**.\n"
   ]
  },
  {
   "cell_type": "markdown",
   "id": "37e3d922",
   "metadata": {},
   "source": [
    "## 2. Import Required Libraries"
   ]
  },
  {
   "cell_type": "code",
   "execution_count": null,
   "id": "f2834f3b",
   "metadata": {},
   "outputs": [],
   "source": [
    "\n",
    "import pandas as pd\n",
    "import numpy as np\n",
    "import matplotlib.pyplot as plt\n",
    "import statsmodels.api as sm\n",
    "from statsmodels.tsa.arima.model import ARIMA\n",
    "from statsmodels.graphics.tsaplots import plot_acf, plot_pacf\n",
    "from arch import arch_model\n"
   ]
  },
  {
   "cell_type": "markdown",
   "id": "71931504",
   "metadata": {},
   "source": [
    "\n",
    "## 3. Load the Dataset\n",
    "\n",
    "We use the AirPassengers dataset. It records monthly totals of international airline passengers (in thousands).\n"
   ]
  },
  {
   "cell_type": "code",
   "execution_count": null,
   "id": "4754a188",
   "metadata": {},
   "outputs": [],
   "source": [
    "\n",
    "url = 'https://raw.githubusercontent.com/jbrownlee/Datasets/master/airline-passengers.csv'\n",
    "df = pd.read_csv(url)\n",
    "df['Month'] = pd.to_datetime(df['Month'])\n",
    "df.set_index('Month', inplace=True)\n",
    "df.head()\n"
   ]
  },
  {
   "cell_type": "markdown",
   "id": "65618f7d",
   "metadata": {},
   "source": [
    "\n",
    "## 4. Visualize the Time Series\n",
    "\n",
    "We plot the original series to understand its structure and trends.\n"
   ]
  },
  {
   "cell_type": "code",
   "execution_count": null,
   "id": "97f8b0fa",
   "metadata": {},
   "outputs": [],
   "source": [
    "\n",
    "plt.figure(figsize=(10,5))\n",
    "plt.plot(df)\n",
    "plt.title('Monthly International Airline Passengers (1949-1960)')\n",
    "plt.xlabel('Date')\n",
    "plt.ylabel('Number of Passengers')\n",
    "plt.grid(True)\n",
    "plt.show()\n"
   ]
  },
  {
   "cell_type": "markdown",
   "id": "672d8dfb",
   "metadata": {},
   "source": [
    "\n",
    "## 5. Stationarity Check\n",
    "\n",
    "A stationary series has constant mean and variance over time.  \n",
    "We first difference the series and apply the **Augmented Dickey-Fuller (ADF)** test.\n"
   ]
  },
  {
   "cell_type": "code",
   "execution_count": null,
   "id": "2792d523",
   "metadata": {},
   "outputs": [],
   "source": [
    "\n",
    "# Differencing\n",
    "df_diff = df.diff().dropna()\n",
    "\n",
    "# Plot differenced data\n",
    "plt.figure(figsize=(10,5))\n",
    "plt.plot(df_diff)\n",
    "plt.title('Differenced Series')\n",
    "plt.grid(True)\n",
    "plt.show()\n",
    "\n",
    "# ADF Test\n",
    "from statsmodels.tsa.stattools import adfuller\n",
    "adf_test = adfuller(df_diff['Passengers'])\n",
    "print('ADF Statistic:', adf_test[0])\n",
    "print('p-value:', adf_test[1])\n"
   ]
  },
  {
   "cell_type": "markdown",
   "id": "0af1727b",
   "metadata": {},
   "source": [
    "\n",
    "## 6. Identify ARIMA Parameters (p, d, q)\n",
    "\n",
    "We use ACF and PACF plots to determine the appropriate values of **p** and **q**.\n"
   ]
  },
  {
   "cell_type": "code",
   "execution_count": null,
   "id": "f597cc2d",
   "metadata": {},
   "outputs": [],
   "source": [
    "\n",
    "# ACF and PACF plots\n",
    "plot_acf(df_diff)\n",
    "plot_pacf(df_diff)\n",
    "plt.show()\n"
   ]
  },
  {
   "cell_type": "markdown",
   "id": "87838064",
   "metadata": {},
   "source": [
    "\n",
    "## 7. Build and Fit the ARIMA Model\n",
    "\n",
    "Based on the plots, we fit an **ARIMA(2,1,2)** model.\n"
   ]
  },
  {
   "cell_type": "code",
   "execution_count": null,
   "id": "0a2a2a15",
   "metadata": {},
   "outputs": [],
   "source": [
    "\n",
    "# ARIMA Model\n",
    "model = ARIMA(df['Passengers'], order=(2,1,2))\n",
    "model_fit = model.fit()\n",
    "model_fit.summary()\n"
   ]
  },
  {
   "cell_type": "markdown",
   "id": "4f3fd239",
   "metadata": {},
   "source": [
    "\n",
    "## 8. Forecast Future Values\n",
    "\n",
    "We forecast the next 12 months and plot the forecast along with confidence intervals.\n"
   ]
  },
  {
   "cell_type": "code",
   "execution_count": null,
   "id": "d0834350",
   "metadata": {},
   "outputs": [],
   "source": [
    "\n",
    "forecast = model_fit.get_forecast(steps=12)\n",
    "forecast_ci = forecast.conf_int()\n",
    "\n",
    "plt.figure(figsize=(10,5))\n",
    "plt.plot(df, label='Observed')\n",
    "plt.plot(forecast.predicted_mean, label='Forecast', color='red')\n",
    "plt.fill_between(forecast_ci.index, forecast_ci.iloc[:, 0], forecast_ci.iloc[:, 1], color='pink')\n",
    "plt.title('Forecast vs Observed')\n",
    "plt.legend()\n",
    "plt.grid(True)\n",
    "plt.show()\n"
   ]
  },
  {
   "cell_type": "markdown",
   "id": "9be12a01",
   "metadata": {},
   "source": [
    "\n",
    "## 9. (Optional) Volatility Analysis Using GARCH Model\n",
    "\n",
    "For extra marks, we apply a **GARCH(1,1)** model to the differenced series.\n"
   ]
  },
  {
   "cell_type": "code",
   "execution_count": null,
   "id": "198f10dd",
   "metadata": {},
   "outputs": [],
   "source": [
    "\n",
    "returns = df_diff['Passengers']\n",
    "model_garch = arch_model(returns, vol='Garch', p=1, q=1)\n",
    "model_garch_fit = model_garch.fit(disp='off')\n",
    "model_garch_fit.summary()\n"
   ]
  },
  {
   "cell_type": "markdown",
   "id": "ac28fc8b",
   "metadata": {},
   "source": [
    "\n",
    "## 10. Conclusion\n",
    "\n",
    "- ARIMA model provided reasonable forecasting for the AirPassengers dataset.\n",
    "- Differencing made the series stationary, as verified by the ADF test.\n",
    "- (Optional) GARCH model offered insights into volatility patterns.\n"
   ]
  }
 ],
 "metadata": {},
 "nbformat": 4,
 "nbformat_minor": 5
}
